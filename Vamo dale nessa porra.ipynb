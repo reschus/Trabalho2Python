{
 "cells": [
  {
   "cell_type": "code",
   "execution_count": 19,
   "metadata": {},
   "outputs": [
    {
     "name": "stdout",
     "output_type": "stream",
     "text": [
      "[nltk_data] Downloading package punkt to\n",
      "[nltk_data]     C:\\Users\\ws\\AppData\\Roaming\\nltk_data...\n",
      "[nltk_data]   Package punkt is already up-to-date!\n",
      "ÿþs\u0000o\u0000n\u0000o\u0000l\u0000ê\u0000n\u0000c\u0000i\u0000a\u0000,\u0000 \u0000l\u0000e\u0000n\u0000t\u0000i\u0000d\u0000ã\u0000o\u0000 \u0000d\u0000e\u0000 \u0000p\u0000e\u0000n\u0000s\u0000a\u0000m\u0000e\u0000n\u0000t\u0000o\u0000,\u0000 \u0000d\u0000o\u0000r\u0000 \u0000d\u0000e\u0000 \u0000c\u0000a\u0000b\u0000e\u0000ç\u0000a\u0000,\u0000 \u0000i\u0000n\u0000f\u0000e\u0000c\u0000ç\u0000õ\u0000e\u0000s\u0000 \u0000r\u0000e\u0000s\u0000p\u0000i\u0000r\u0000a\u0000t\u0000ó\u0000r\u0000i\u0000a\u0000s\u0000,\u0000 \u0000c\u0000a\u0000n\u0000s\u0000a\u0000ç\u0000o\u0000,\u0000 \u0000g\u0000r\u0000i\u0000p\u0000e\u0000,\u0000 \u0000d\u0000e\u0000p\u0000r\u0000e\u0000s\u0000s\u0000ã\u0000o\u0000,\u0000 \u0000v\u0000e\u0000r\u0000t\u0000i\u0000g\u0000e\u0000m\u0000,\u0000 \u0000i\u0000r\u0000r\u0000i\u0000t\u0000a\u0000b\u0000i\u0000l\u0000i\u0000d\u0000a\u0000d\u0000e\u0000,\u0000 \u0000i\u0000n\u0000s\u0000ô\u0000n\u0000i\u0000a\u0000,\u0000 \u0000f\u0000a\u0000l\u0000t\u0000a\u0000 \u0000d\u0000e\u0000 \u0000c\u0000o\u0000o\u0000r\u0000d\u0000e\u0000n\u0000a\u0000ç\u0000ã\u0000o\u0000 \u0000d\u0000e\u0000 \u0000m\u0000o\u0000v\u0000i\u0000m\u0000e\u0000n\u0000t\u0000o\u0000s\u0000 \u0000e\u0000 \u0000d\u0000a\u0000 \u0000m\u0000a\u0000r\u0000c\u0000h\u0000a\u0000,\u0000 \u0000p\u0000e\u0000r\u0000d\u0000a\u0000 \u0000d\u0000o\u0000 \u0000e\u0000q\u0000u\u0000i\u0000l\u0000í\u0000b\u0000r\u0000i\u0000o\u0000,\u0000 \u0000n\u0000á\u0000u\u0000s\u0000e\u0000a\u0000,\u0000 \u0000s\u0000e\u0000n\u0000s\u0000a\u0000ç\u0000ã\u0000o\u0000 \u0000d\u0000e\u0000 \u0000c\u0000a\u0000b\u0000e\u0000ç\u0000a\u0000 \u0000l\u0000e\u0000v\u0000e\u0000,\u0000 \u0000s\u0000i\u0000n\u0000u\u0000s\u0000i\u0000t\u0000e\u0000,\u0000 \u0000f\u0000a\u0000l\u0000t\u0000a\u0000 \u0000d\u0000e\u0000 \u0000c\u0000o\u0000n\u0000c\u0000e\u0000n\u0000t\u0000r\u0000a\u0000ç\u0000ã\u0000o\u0000,\u0000 \u0000a\u0000l\u0000t\u0000e\u0000r\u0000a\u0000ç\u0000õ\u0000e\u0000s\u0000 \u0000n\u0000a\u0000 \u0000v\u0000i\u0000s\u0000ã\u0000o\u0000,\u0000 \u0000a\u0000p\u0000a\u0000r\u0000ê\u0000n\u0000c\u0000i\u0000a\u0000 \u0000d\u0000e\u0000 \u0000o\u0000l\u0000h\u0000o\u0000 \u0000e\u0000s\u0000b\u0000r\u0000a\u0000n\u0000q\u0000u\u0000i\u0000ç\u0000a\u0000d\u0000o\u0000 \u0000s\u0000e\u0000m\u0000e\u0000l\u0000h\u0000a\u0000n\u0000t\u0000e\u0000 \u0000a\u0000 \u0000c\u0000a\u0000t\u0000a\u0000r\u0000a\u0000t\u0000a\u0000 \u0000-\u0000 \u0000\u001c",
      " o\u0000l\u0000h\u0000o\u0000 \u0000v\u0000i\u0000´\u0000t\u0000r\u0000e\u0000o\u0000\"\u0000,\u0000 \u0000p\u0000a\u0000l\u0000p\u0000i\u0000t\u0000a\u0000ç\u0000õ\u0000e\u0000s\u0000,\u0000 \u0000p\u0000e\u0000r\u0000d\u0000a\u0000 \u0000d\u0000o\u0000 \u0000a\u0000p\u0000e\u0000t\u0000i\u0000t\u0000e\u0000,\u0000 \u0000u\u0000r\u0000t\u0000i\u0000c\u0000á\u0000r\u0000i\u0000a\u0000 \u0000e\u0000 \u0000c\u0000o\u0000c\u0000e\u0000i\u0000r\u0000a\u0000 \u0000n\u0000a\u0000 \u0000p\u0000e\u0000l\u0000e\u0000,\u0000 \u0000f\u0000r\u0000a\u0000q\u0000u\u0000e\u0000z\u0000a\u0000 \u0000m\u0000u\u0000s\u0000c\u0000u\u0000l\u0000a\u0000r\u0000,\u0000 \u0000f\u0000a\u0000d\u0000i\u0000g\u0000a\u0000,\u0000 \u0000d\u0000i\u0000f\u0000i\u0000c\u0000u\u0000l\u0000d\u0000a\u0000d\u0000e\u0000 \u0000p\u0000a\u0000r\u0000a\u0000 \u0000u\u0000r\u0000i\u0000n\u0000a\u0000r\u0000,\u0000 \u0000c\u0000ó\u0000l\u0000i\u0000c\u0000a\u0000s\u0000 \u0000m\u0000e\u0000n\u0000s\u0000t\u0000r\u0000u\u0000a\u0000i\u0000s\u0000,\u0000 \u0000d\u0000i\u0000m\u0000i\u0000n\u0000u\u0000i\u0000ç\u0000ã\u0000o\u0000 \u0000d\u0000e\u0000 \u0000i\u0000n\u0000t\u0000e\u0000r\u0000e\u0000s\u0000s\u0000e\u0000 \u0000s\u0000e\u0000x\u0000u\u0000a\u0000l\u0000,\u0000 \u0000o\u0000t\u0000i\u0000t\u0000e\u0000,\u0000 \u0000v\u0000e\u0000r\u0000t\u0000i\u0000g\u0000e\u0000m\u0000,\u0000 \u0000d\u0000e\u0000s\u0000i\u0000d\u0000r\u0000a\u0000t\u0000a\u0000ç\u0000ã\u0000o\u0000,\u0000 \u0000a\u0000m\u0000n\u0000é\u0000s\u0000i\u0000a\u0000 \u0000o\u0000u\u0000 \u0000a\u0000l\u0000u\u0000c\u0000i\u0000n\u0000a\u0000ç\u0000õ\u0000e\u0000s\u0000.\u0000\n",
      "ÿþt\u0000o\u0000n\u0000t\u0000u\u0000r\u0000a\u0000,\u0000 \u0000c\u0000e\u0000f\u0000a\u0000l\u0000e\u0000i\u0000a\u0000 \u0000(\u0000d\u0000o\u0000r\u0000 \u0000d\u0000e\u0000 \u0000c\u0000a\u0000b\u0000e\u0000ç\u0000a\u0000)\u0000,\u0000 \u0000s\u0000o\u0000n\u0000o\u0000l\u0000ê\u0000n\u0000c\u0000i\u0000a\u0000\n",
      "ÿþd\u0000e\u0000p\u0000r\u0000e\u0000s\u0000s\u0000ã\u0000o\u0000,\u0000 \u0000s\u0000e\u0000d\u0000a\u0000ç\u0000ã\u0000o\u0000,\u0000 \u0000s\u0000o\u0000n\u0000o\u0000l\u0000ê\u0000n\u0000c\u0000i\u0000a\u0000,\u0000 \u0000a\u0000t\u0000a\u0000x\u0000i\u0000a\u0000 \u0000(\u0000d\u0000i\u0000f\u0000i\u0000c\u0000u\u0000l\u0000d\u0000a\u0000d\u0000e\u0000 \u0000n\u0000a\u0000 \u0000c\u0000o\u0000o\u0000r\u0000d\u0000e\u0000n\u0000a\u0000ç\u0000ã\u0000o\u0000 \u0000m\u0000o\u0000t\u0000o\u0000r\u0000a\u0000)\u0000,\u0000 \u0000c\u0000o\u0000m\u0000p\u0000r\u0000o\u0000m\u0000e\u0000t\u0000i\u0000m\u0000e\u0000n\u0000t\u0000o\u0000 \u0000d\u0000a\u0000 \u0000m\u0000e\u0000m\u0000ó\u0000r\u0000i\u0000a\u0000,\u0000 \u0000d\u0000i\u0000s\u0000a\u0000r\u0000t\u0000r\u0000i\u0000a\u0000 \u0000(\u0000f\u0000a\u0000l\u0000a\u0000 \u0000e\u0000m\u0000p\u0000a\u0000s\u0000t\u0000a\u0000d\u0000a\u0000)\u0000,\u0000 \u0000t\u0000o\u0000n\u0000t\u0000u\u0000r\u0000a\u0000,\u0000 \u0000c\u0000e\u0000f\u0000a\u0000l\u0000e\u0000i\u0000a\u0000,\u0000 \u0000c\u0000o\u0000n\u0000s\u0000t\u0000i\u0000p\u0000a\u0000ç\u0000ã\u0000o\u0000,\u0000 \u0000b\u0000o\u0000c\u0000a\u0000 \u0000s\u0000e\u0000c\u0000a\u0000,\u0000 \u0000f\u0000a\u0000d\u0000i\u0000g\u0000a\u0000 \u0000(\u0000c\u0000a\u0000n\u0000s\u0000a\u0000ç\u0000o\u0000)\u0000 \u0000e\u0000 \u0000i\u0000r\u0000r\u0000i\u0000t\u0000a\u0000b\u0000i\u0000l\u0000i\u0000d\u0000a\u0000d\u0000e\u0000.\u0000\n",
      "ÿþs\u0000e\u0000n\u0000s\u0000a\u0000ç\u0000ã\u0000o\u0000 \u0000d\u0000e\u0000 \u0000c\u0000a\u0000n\u0000s\u0000a\u0000ç\u0000o\u0000,\u0000 \u0000s\u0000o\u0000n\u0000o\u0000l\u0000ê\u0000n\u0000c\u0000i\u0000a\u0000\n",
      "ÿþs\u0000o\u0000n\u0000o\u0000l\u0000ê\u0000n\u0000c\u0000i\u0000a\u0000,\u0000 \u0000c\u0000e\u0000f\u0000a\u0000l\u0000é\u0000i\u0000a\u0000\n",
      "ÿþS\u0000e\u0000d\u0000a\u0000ç\u0000ã\u0000o\u0000,\u0000 \u0000t\u0000o\u0000n\u0000t\u0000u\u0000r\u0000a\u0000 \u0000e\u0000 \u0000c\u0000e\u0000f\u0000a\u0000l\u0000é\u0000i\u0000a\u0000\n",
      "ÿþc\u0000a\u0000n\u0000s\u0000a\u0000ç\u0000o\u0000,\u0000 \u0000s\u0000o\u0000n\u0000o\u0000l\u0000ê\u0000n\u0000c\u0000i\u0000a\u0000,\u0000 \u0000s\u0000e\u0000d\u0000a\u0000ç\u0000ã\u0000o\u0000 \u0000e\u0000 \u0000t\u0000o\u0000n\u0000t\u0000u\u0000r\u0000a\u0000s\u0000\n",
      "\u0000\n",
      "\u0000\n",
      "ÿþs\u0000e\u0000d\u0000a\u0000ç\u0000ã\u0000o\u0000,\u0000 \u0000a\u0000m\u0000n\u0000é\u0000s\u0000i\u0000a\u0000 \u0000a\u0000n\u0000t\u0000e\u0000r\u0000ó\u0000g\u0000r\u0000a\u0000d\u0000a\u0000,\u0000 \u0000r\u0000e\u0000a\u0000ç\u0000õ\u0000e\u0000s\u0000 \u0000p\u0000a\u0000r\u0000a\u0000d\u0000o\u0000x\u0000a\u0000i\u0000s\u0000,\u0000 \u0000r\u0000e\u0000l\u0000a\u0000x\u0000a\u0000m\u0000e\u0000n\u0000t\u0000o\u0000 \u0000m\u0000u\u0000s\u0000c\u0000u\u0000l\u0000a\u0000r\u0000\n",
      "ÿþs\u0000o\u0000n\u0000o\u0000l\u0000e\u0000n\u0000c\u0000i\u0000a\u0000,\u0000 \u0000f\u0000r\u0000a\u0000q\u0000u\u0000e\u0000z\u0000a\u0000 \u0000m\u0000u\u0000s\u0000c\u0000u\u0000l\u0000a\u0000r\u0000,\u0000 \u0000s\u0000e\u0000n\u0000s\u0000a\u0000c\u0000a\u0000o\u0000 \u0000d\u0000e\u0000 \u0000e\u0000m\u0000b\u0000r\u0000i\u0000a\u0000g\u0000a\u0000m\u0000e\u0000n\u0000t\u0000o\u0000,\u0000 \u0000c\u0000a\u0000n\u0000s\u0000a\u0000ç\u0000o\u0000,\u0000 \u0000d\u0000o\u0000r\u0000 \u0000d\u0000e\u0000 \u0000c\u0000a\u0000b\u0000e\u0000ç\u0000a\u0000,\u0000 \u0000v\u0000e\u0000r\u0000t\u0000i\u0000g\u0000e\u0000n\u0000s\u0000 \u0000o\u0000u\u0000 \u0000o\u0000b\u0000s\u0000t\u0000i\u0000p\u0000a\u0000ç\u0000ã\u0000o\u0000\n",
      "ï»¿cansaÃ§o, sonolÃªncia e relaxamento muscular\n",
      "[nltk_data] Downloading package stopwords to\n",
      "[nltk_data]     C:\\Users\\ws\\AppData\\Roaming\\nltk_data...\n",
      "[nltk_data]   Package stopwords is already up-to-date!\n",
      "['ï', '»', '¿cansaÃ§o', ',', 'sonolÃªncia', 'e', 'relaxamento', 'muscular']\n"
     ]
    },
    {
     "ename": "NameError",
     "evalue": "name 'word_list' is not defined",
     "output_type": "error",
     "traceback": [
      "\u001b[1;31m---------------------------------------------------------------------------\u001b[0m",
      "\u001b[1;31mNameError\u001b[0m                                 Traceback (most recent call last)",
      "\u001b[1;32m<ipython-input-19-18769baa96a5>\u001b[0m in \u001b[0;36m<module>\u001b[1;34m()\u001b[0m\n\u001b[0;32m     64\u001b[0m \u001b[1;33m\u001b[0m\u001b[0m\n\u001b[0;32m     65\u001b[0m \u001b[0mfiltered_word_list\u001b[0m \u001b[1;33m=\u001b[0m \u001b[1;33m(\u001b[0m\u001b[1;34m'rivotril.txt'\u001b[0m\u001b[1;33m)\u001b[0m\u001b[1;33m\u001b[0m\u001b[0m\n\u001b[1;32m---> 66\u001b[1;33m \u001b[1;32mfor\u001b[0m \u001b[0mword\u001b[0m \u001b[1;32min\u001b[0m \u001b[0mword_list\u001b[0m\u001b[1;33m:\u001b[0m\u001b[1;33m\u001b[0m\u001b[0m\n\u001b[0m\u001b[0;32m     67\u001b[0m   \u001b[1;32mif\u001b[0m \u001b[0mword\u001b[0m \u001b[1;32min\u001b[0m \u001b[0mstopwords\u001b[0m\u001b[1;33m.\u001b[0m\u001b[0mwords\u001b[0m\u001b[1;33m(\u001b[0m\u001b[1;34m'portuguese'\u001b[0m\u001b[1;33m)\u001b[0m\u001b[1;33m:\u001b[0m\u001b[1;33m\u001b[0m\u001b[0m\n\u001b[0;32m     68\u001b[0m     \u001b[0mfiltered_word_list\u001b[0m\u001b[1;33m.\u001b[0m\u001b[0mremove\u001b[0m\u001b[1;33m(\u001b[0m\u001b[0mword\u001b[0m\u001b[1;33m)\u001b[0m\u001b[1;33m\u001b[0m\u001b[0m\n",
      "\u001b[1;31mNameError\u001b[0m: name 'word_list' is not defined"
     ]
    }
   ],
   "source": [
    "import nltk\n",
    "nltk.download('punkt')\n",
    "from nltk.tokenize import sent_tokenize, word_tokenize\n",
    "from nltk.corpus import stopwords\n",
    "\n",
    "rivotril = open('rivotril.txt', \"r\")\n",
    "riv = rivotril.read()\n",
    "rivotril.close()\n",
    "print(riv)\n",
    "\n",
    "ansitec = open('ansitec.txt', \"r\")\n",
    "ans = ansitec.read()\n",
    "ansitec.close()\n",
    "print(ans)\n",
    "\n",
    "frontal = open('frontal.txt', \"r\")\n",
    "fro = frontal.read()\n",
    "frontal.close()\n",
    "print(fro)\n",
    "\n",
    "lorax = open('lorax.txt', \"r\")\n",
    "lor = lorax.read()\n",
    "lorax.close()\n",
    "print(lor)\n",
    "\n",
    "noctal = open('noctal.txt', \"r\")\n",
    "noc = noctal.read()\n",
    "noctal.close()\n",
    "print(noc)\n",
    "\n",
    "olcadil = open('olcadil.txt', \"r\")\n",
    "olc = olcadil.read()\n",
    "olcadil.close()\n",
    "print(olc)\n",
    "\n",
    "somalium = open('somalium.txt', \"r\")\n",
    "som = somalium.read()\n",
    "somalium.close()\n",
    "print(som)\n",
    "\n",
    "tranxilene = open('tranxilene.txt', \"r\")\n",
    "tra = tranxilene.read()\n",
    "tranxilene.close()\n",
    "print(tra)\n",
    "\n",
    "urbanil = open('urbanil.txt', \"r\")\n",
    "urb = urbanil.read()\n",
    "urbanil.close()\n",
    "print(urb)\n",
    "\n",
    "valium = open('valium.txt', \"r\")\n",
    "val = valium.read()\n",
    "valium.close()\n",
    "print(val)\n",
    "\n",
    "\n",
    "'''nltk.download('stopwords')\n",
    "from nltk.corpus import stopwords \n",
    "import string\n",
    "\n",
    "palavras = word_tokenize(val)\n",
    "print(palavras)\n",
    "\n",
    "\n",
    "filtered_word_list = ('rivotril.txt')\n",
    "for word in word_list: \n",
    "  if word in stopwords.words('portuguese'): \n",
    "    filtered_word_list.remove(word)'''"
   ]
  },
  {
   "cell_type": "code",
   "execution_count": null,
   "metadata": {},
   "outputs": [],
   "source": []
  },
  {
   "cell_type": "code",
   "execution_count": null,
   "metadata": {},
   "outputs": [],
   "source": []
  }
 ],
 "metadata": {
  "kernelspec": {
   "display_name": "Python 3",
   "language": "python",
   "name": "python3"
  },
  "language_info": {
   "codemirror_mode": {
    "name": "ipython",
    "version": 3
   },
   "file_extension": ".py",
   "mimetype": "text/x-python",
   "name": "python",
   "nbconvert_exporter": "python",
   "pygments_lexer": "ipython3",
   "version": "3.6.4"
  }
 },
 "nbformat": 4,
 "nbformat_minor": 2
}
